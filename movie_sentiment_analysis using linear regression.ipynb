{
  "nbformat": 4,
  "nbformat_minor": 0,
  "metadata": {
    "kernelspec": {
      "display_name": "Python 3",
      "language": "python",
      "name": "python3"
    },
    "language_info": {
      "codemirror_mode": {
        "name": "ipython",
        "version": 3
      },
      "file_extension": ".py",
      "mimetype": "text/x-python",
      "name": "python",
      "nbconvert_exporter": "python",
      "pygments_lexer": "ipython3",
      "version": "3.7.3"
    },
    "colab": {
      "name": "movie_sentiment_analysis.ipynb",
      "provenance": [],
      "collapsed_sections": []
    }
  },
  "cells": [
    {
      "cell_type": "markdown",
      "metadata": {
        "id": "kmSwfTD1xfu1",
        "colab_type": "text"
      },
      "source": [
        "# NLP - movie review sentiment analysis in python"
      ]
    },
    {
      "cell_type": "markdown",
      "metadata": {
        "id": "f5vKzXTsxfvN",
        "colab_type": "text"
      },
      "source": [
        "## Data Facts and Import \n",
        "First download movie dataset from kaggle and uplod the file."
      ]
    },
    {
      "cell_type": "code",
      "metadata": {
        "id": "n-_DF4emCdC9",
        "colab_type": "code",
        "colab": {}
      },
      "source": [
        "import pandas as pd \n",
        "\n",
        "Reviewdata = pd.read_csv('/train.tsv',sep='\\t')\n",
        "\n",
        "#Data Credit - https://www.kaggle.com/anu0012/hotel-review/data"
      ],
      "execution_count": 4,
      "outputs": []
    },
    {
      "cell_type": "code",
      "metadata": {
        "id": "WKJfZX4JxfwI",
        "colab_type": "code",
        "colab": {
          "base_uri": "https://localhost:8080/",
          "height": 204
        },
        "outputId": "13733e23-aa57-4306-eadd-51f726502b45"
      },
      "source": [
        "#Reviewdata.shape\n",
        "#Reviewdata.head()\n",
        "Reviewdata.info()"
      ],
      "execution_count": 5,
      "outputs": [
        {
          "output_type": "stream",
          "text": [
            "<class 'pandas.core.frame.DataFrame'>\n",
            "RangeIndex: 156060 entries, 0 to 156059\n",
            "Data columns (total 4 columns):\n",
            " #   Column      Non-Null Count   Dtype \n",
            "---  ------      --------------   ----- \n",
            " 0   PhraseId    156060 non-null  int64 \n",
            " 1   SentenceId  156060 non-null  int64 \n",
            " 2   Phrase      156060 non-null  object\n",
            " 3   Sentiment   156060 non-null  int64 \n",
            "dtypes: int64(3), object(1)\n",
            "memory usage: 4.8+ MB\n"
          ],
          "name": "stdout"
        }
      ]
    },
    {
      "cell_type": "code",
      "metadata": {
        "id": "ddPn3gi-xfwW",
        "colab_type": "code",
        "colab": {
          "base_uri": "https://localhost:8080/",
          "height": 142
        },
        "outputId": "7e07c64f-3852-47dc-b405-a5430af29d62"
      },
      "source": [
        "Reviewdata.describe().transpose()"
      ],
      "execution_count": 6,
      "outputs": [
        {
          "output_type": "execute_result",
          "data": {
            "text/html": [
              "<div>\n",
              "<style scoped>\n",
              "    .dataframe tbody tr th:only-of-type {\n",
              "        vertical-align: middle;\n",
              "    }\n",
              "\n",
              "    .dataframe tbody tr th {\n",
              "        vertical-align: top;\n",
              "    }\n",
              "\n",
              "    .dataframe thead th {\n",
              "        text-align: right;\n",
              "    }\n",
              "</style>\n",
              "<table border=\"1\" class=\"dataframe\">\n",
              "  <thead>\n",
              "    <tr style=\"text-align: right;\">\n",
              "      <th></th>\n",
              "      <th>count</th>\n",
              "      <th>mean</th>\n",
              "      <th>std</th>\n",
              "      <th>min</th>\n",
              "      <th>25%</th>\n",
              "      <th>50%</th>\n",
              "      <th>75%</th>\n",
              "      <th>max</th>\n",
              "    </tr>\n",
              "  </thead>\n",
              "  <tbody>\n",
              "    <tr>\n",
              "      <th>PhraseId</th>\n",
              "      <td>156060.0</td>\n",
              "      <td>78030.500000</td>\n",
              "      <td>45050.785842</td>\n",
              "      <td>1.0</td>\n",
              "      <td>39015.75</td>\n",
              "      <td>78030.5</td>\n",
              "      <td>117045.25</td>\n",
              "      <td>156060.0</td>\n",
              "    </tr>\n",
              "    <tr>\n",
              "      <th>SentenceId</th>\n",
              "      <td>156060.0</td>\n",
              "      <td>4079.732744</td>\n",
              "      <td>2502.764394</td>\n",
              "      <td>1.0</td>\n",
              "      <td>1861.75</td>\n",
              "      <td>4017.0</td>\n",
              "      <td>6244.00</td>\n",
              "      <td>8544.0</td>\n",
              "    </tr>\n",
              "    <tr>\n",
              "      <th>Sentiment</th>\n",
              "      <td>156060.0</td>\n",
              "      <td>2.063578</td>\n",
              "      <td>0.893832</td>\n",
              "      <td>0.0</td>\n",
              "      <td>2.00</td>\n",
              "      <td>2.0</td>\n",
              "      <td>3.00</td>\n",
              "      <td>4.0</td>\n",
              "    </tr>\n",
              "  </tbody>\n",
              "</table>\n",
              "</div>"
            ],
            "text/plain": [
              "               count          mean           std  ...      50%        75%       max\n",
              "PhraseId    156060.0  78030.500000  45050.785842  ...  78030.5  117045.25  156060.0\n",
              "SentenceId  156060.0   4079.732744   2502.764394  ...   4017.0    6244.00    8544.0\n",
              "Sentiment   156060.0      2.063578      0.893832  ...      2.0       3.00       4.0\n",
              "\n",
              "[3 rows x 8 columns]"
            ]
          },
          "metadata": {
            "tags": []
          },
          "execution_count": 6
        }
      ]
    },
    {
      "cell_type": "markdown",
      "metadata": {
        "id": "klOogvqXxfwj",
        "colab_type": "text"
      },
      "source": [
        "## Data visualization using matplotlib\n"
      ]
    },
    {
      "cell_type": "code",
      "metadata": {
        "id": "HJSFECKvxfw1",
        "colab_type": "code",
        "colab": {
          "base_uri": "https://localhost:8080/",
          "height": 414
        },
        "outputId": "34f8e605-d8e9-4455-a5ad-02dd642f9c6e"
      },
      "source": [
        "### Checking for the Distribution of Default ###\n",
        "import matplotlib.pyplot as plt\n",
        "%matplotlib inline\n",
        "print('Percentage for default\\n')\n",
        "print(round(Reviewdata.Sentiment.value_counts(normalize=True)*100,2))\n",
        "round(Reviewdata.Sentiment.value_counts(normalize=True)*100,2).plot(kind='bar')\n",
        "plt.title('Percentage Distributions by review type')\n",
        "plt.show()"
      ],
      "execution_count": 7,
      "outputs": [
        {
          "output_type": "stream",
          "text": [
            "Percentage for default\n",
            "\n",
            "2    50.99\n",
            "3    21.10\n",
            "1    17.48\n",
            "4     5.90\n",
            "0     4.53\n",
            "Name: Sentiment, dtype: float64\n"
          ],
          "name": "stdout"
        },
        {
          "output_type": "display_data",
          "data": {
            "image/png": "[encoded data removed]",
            "text/plain": [
              "<Figure size 432x288 with 1 Axes>"
            ]
          },
          "metadata": {
            "tags": [],
            "needs_background": "light"
          }
        }
      ]
    },
    {
      "cell_type": "markdown",
      "metadata": {
        "id": "vmoVBEGrxfxB",
        "colab_type": "text"
      },
      "source": [
        "#Removing columns\n",
        "\n"
      ]
    },
    {
      "cell_type": "code",
      "metadata": {
        "id": "aH8z4ifb4v19",
        "colab_type": "code",
        "colab": {}
      },
      "source": [
        "Reviewdata.drop(columns = ['PhraseId', 'SentenceId'], inplace = True)"
      ],
      "execution_count": 8,
      "outputs": []
    },
    {
      "cell_type": "markdown",
      "metadata": {
        "id": "h4s3WCDsuM1z",
        "colab_type": "text"
      },
      "source": [
        "## DATA CLEANING USING REGEX "
      ]
    },
    {
      "cell_type": "code",
      "metadata": {
        "id": "bsQGVulBxfxN",
        "colab_type": "code",
        "colab": {}
      },
      "source": [
        "# Apply first level cleaning\n",
        "import re\n",
        "import string\n",
        "\n",
        "#This function converts to lower-case, removes square bracket, removes numbers and punctuation\n",
        "def text_clean_1(text):\n",
        "    text = text.lower()\n",
        "    text = re.sub('\\[.*?\\]', '', text)\n",
        "    text = re.sub('[%s]' % re.escape(string.punctuation), '', text)\n",
        "    text = re.sub('\\w*\\d\\w*', '', text)\n",
        "    return text\n",
        "\n",
        "cleaned1 = lambda x: text_clean_1(x)"
      ],
      "execution_count": 9,
      "outputs": []
    },
    {
      "cell_type": "code",
      "metadata": {
        "id": "qJ2iJEFtxfxZ",
        "colab_type": "code",
        "colab": {
          "base_uri": "https://localhost:8080/",
          "height": 204
        },
        "outputId": "7bd57715-5af6-4936-8f12-e5b4dc999d76"
      },
      "source": [
        "# Let's take a look at the updated text\n",
        "Reviewdata['cleaned_description'] = pd.DataFrame(Reviewdata.Phrase.apply(cleaned1))\n",
        "Reviewdata.head(5)"
      ],
      "execution_count": 10,
      "outputs": [
        {
          "output_type": "execute_result",
          "data": {
            "text/html": [
              "<div>\n",
              "<style scoped>\n",
              "    .dataframe tbody tr th:only-of-type {\n",
              "        vertical-align: middle;\n",
              "    }\n",
              "\n",
              "    .dataframe tbody tr th {\n",
              "        vertical-align: top;\n",
              "    }\n",
              "\n",
              "    .dataframe thead th {\n",
              "        text-align: right;\n",
              "    }\n",
              "</style>\n",
              "<table border=\"1\" class=\"dataframe\">\n",
              "  <thead>\n",
              "    <tr style=\"text-align: right;\">\n",
              "      <th></th>\n",
              "      <th>Phrase</th>\n",
              "      <th>Sentiment</th>\n",
              "      <th>cleaned_description</th>\n",
              "    </tr>\n",
              "  </thead>\n",
              "  <tbody>\n",
              "    <tr>\n",
              "      <th>0</th>\n",
              "      <td>A series of escapades demonstrating the adage ...</td>\n",
              "      <td>1</td>\n",
              "      <td>a series of escapades demonstrating the adage ...</td>\n",
              "    </tr>\n",
              "    <tr>\n",
              "      <th>1</th>\n",
              "      <td>A series of escapades demonstrating the adage ...</td>\n",
              "      <td>2</td>\n",
              "      <td>a series of escapades demonstrating the adage ...</td>\n",
              "    </tr>\n",
              "    <tr>\n",
              "      <th>2</th>\n",
              "      <td>A series</td>\n",
              "      <td>2</td>\n",
              "      <td>a series</td>\n",
              "    </tr>\n",
              "    <tr>\n",
              "      <th>3</th>\n",
              "      <td>A</td>\n",
              "      <td>2</td>\n",
              "      <td>a</td>\n",
              "    </tr>\n",
              "    <tr>\n",
              "      <th>4</th>\n",
              "      <td>series</td>\n",
              "      <td>2</td>\n",
              "      <td>series</td>\n",
              "    </tr>\n",
              "  </tbody>\n",
              "</table>\n",
              "</div>"
            ],
            "text/plain": [
              "                                              Phrase  ...                                cleaned_description\n",
              "0  A series of escapades demonstrating the adage ...  ...  a series of escapades demonstrating the adage ...\n",
              "1  A series of escapades demonstrating the adage ...  ...  a series of escapades demonstrating the adage ...\n",
              "2                                           A series  ...                                           a series\n",
              "3                                                  A  ...                                                  a\n",
              "4                                             series  ...                                             series\n",
              "\n",
              "[5 rows x 3 columns]"
            ]
          },
          "metadata": {
            "tags": []
          },
          "execution_count": 10
        }
      ]
    },
    {
      "cell_type": "code",
      "metadata": {
        "id": "A2cNFZoSxfxq",
        "colab_type": "code",
        "colab": {}
      },
      "source": [
        "# Apply a second round of cleaning\n",
        "def text_clean_2(text):\n",
        "    text = re.sub('[‘’“”…]', '', text)\n",
        "    text = re.sub('\\n', '', text)\n",
        "    return text\n",
        "\n",
        "cleaned2 = lambda x: text_clean_2(x)"
      ],
      "execution_count": 11,
      "outputs": []
    },
    {
      "cell_type": "code",
      "metadata": {
        "id": "UEoTPeUZxfx3",
        "colab_type": "code",
        "colab": {
          "base_uri": "https://localhost:8080/",
          "height": 238
        },
        "outputId": "971abb9f-a1cd-4238-8e58-26594d9e1c2a"
      },
      "source": [
        "# Let's take a look at the updated text\n",
        "Reviewdata['cleaned_description_new'] = pd.DataFrame(Reviewdata['cleaned_description'].apply(cleaned2))\n",
        "Reviewdata.head(5)"
      ],
      "execution_count": 12,
      "outputs": [
        {
          "output_type": "execute_result",
          "data": {
            "text/html": [
              "<div>\n",
              "<style scoped>\n",
              "    .dataframe tbody tr th:only-of-type {\n",
              "        vertical-align: middle;\n",
              "    }\n",
              "\n",
              "    .dataframe tbody tr th {\n",
              "        vertical-align: top;\n",
              "    }\n",
              "\n",
              "    .dataframe thead th {\n",
              "        text-align: right;\n",
              "    }\n",
              "</style>\n",
              "<table border=\"1\" class=\"dataframe\">\n",
              "  <thead>\n",
              "    <tr style=\"text-align: right;\">\n",
              "      <th></th>\n",
              "      <th>Phrase</th>\n",
              "      <th>Sentiment</th>\n",
              "      <th>cleaned_description</th>\n",
              "      <th>cleaned_description_new</th>\n",
              "    </tr>\n",
              "  </thead>\n",
              "  <tbody>\n",
              "    <tr>\n",
              "      <th>0</th>\n",
              "      <td>A series of escapades demonstrating the adage ...</td>\n",
              "      <td>1</td>\n",
              "      <td>a series of escapades demonstrating the adage ...</td>\n",
              "      <td>a series of escapades demonstrating the adage ...</td>\n",
              "    </tr>\n",
              "    <tr>\n",
              "      <th>1</th>\n",
              "      <td>A series of escapades demonstrating the adage ...</td>\n",
              "      <td>2</td>\n",
              "      <td>a series of escapades demonstrating the adage ...</td>\n",
              "      <td>a series of escapades demonstrating the adage ...</td>\n",
              "    </tr>\n",
              "    <tr>\n",
              "      <th>2</th>\n",
              "      <td>A series</td>\n",
              "      <td>2</td>\n",
              "      <td>a series</td>\n",
              "      <td>a series</td>\n",
              "    </tr>\n",
              "    <tr>\n",
              "      <th>3</th>\n",
              "      <td>A</td>\n",
              "      <td>2</td>\n",
              "      <td>a</td>\n",
              "      <td>a</td>\n",
              "    </tr>\n",
              "    <tr>\n",
              "      <th>4</th>\n",
              "      <td>series</td>\n",
              "      <td>2</td>\n",
              "      <td>series</td>\n",
              "      <td>series</td>\n",
              "    </tr>\n",
              "  </tbody>\n",
              "</table>\n",
              "</div>"
            ],
            "text/plain": [
              "                                              Phrase  ...                            cleaned_description_new\n",
              "0  A series of escapades demonstrating the adage ...  ...  a series of escapades demonstrating the adage ...\n",
              "1  A series of escapades demonstrating the adage ...  ...  a series of escapades demonstrating the adage ...\n",
              "2                                           A series  ...                                           a series\n",
              "3                                                  A  ...                                                  a\n",
              "4                                             series  ...                                             series\n",
              "\n",
              "[5 rows x 4 columns]"
            ]
          },
          "metadata": {
            "tags": []
          },
          "execution_count": 12
        }
      ]
    },
    {
      "cell_type": "code",
      "metadata": {
        "id": "LUDQPXnL0Ixb",
        "colab_type": "code",
        "colab": {}
      },
      "source": [
        "Reviewdata.drop(columns = ['Phrase', 'cleaned_description'], inplace = True)"
      ],
      "execution_count": 13,
      "outputs": []
    },
    {
      "cell_type": "markdown",
      "metadata": {
        "id": "fpPFvN_2xfyD",
        "colab_type": "text"
      },
      "source": [
        "## Model training "
      ]
    },
    {
      "cell_type": "code",
      "metadata": {
        "id": "JNGy8jJnxfyF",
        "colab_type": "code",
        "colab": {
          "base_uri": "https://localhost:8080/",
          "height": 85
        },
        "outputId": "c247c63a-4a70-40b3-9a3f-cb7da8b36e15"
      },
      "source": [
        "from sklearn.model_selection import train_test_split\n",
        "\n",
        "Independent_var = Reviewdata.cleaned_description_new\n",
        "Dependent_var = Reviewdata.Sentiment\n",
        "\n",
        "IV_train, IV_test, DV_train, DV_test = train_test_split(Independent_var, Dependent_var, test_size = 0.1, random_state = 225)\n",
        "\n",
        "print('IV_train :', len(IV_train))\n",
        "print('IV_test  :', len(IV_test))\n",
        "print('DV_train :', len(DV_train))\n",
        "print('DV_test  :', len(DV_test))\n"
      ],
      "execution_count": 14,
      "outputs": [
        {
          "output_type": "stream",
          "text": [
            "IV_train : 140454\n",
            "IV_test  : 15606\n",
            "DV_train : 140454\n",
            "DV_test  : 15606\n"
          ],
          "name": "stdout"
        }
      ]
    },
    {
      "cell_type": "code",
      "metadata": {
        "id": "6nMYUCbNxfyR",
        "colab_type": "code",
        "colab": {}
      },
      "source": [
        "from sklearn.feature_extraction.text import TfidfVectorizer\n",
        "from sklearn.linear_model import LogisticRegression\n",
        "\n",
        "tvec = TfidfVectorizer()\n",
        "clf2 = LogisticRegression(solver = \"lbfgs\")\n",
        "\n",
        "\n",
        "from sklearn.pipeline import Pipeline"
      ],
      "execution_count": 15,
      "outputs": []
    },
    {
      "cell_type": "code",
      "metadata": {
        "id": "_ouJpmWFxfyc",
        "colab_type": "code",
        "colab": {
          "base_uri": "https://localhost:8080/",
          "height": 238
        },
        "outputId": "ff9b8e67-6f5b-417a-8d0f-1709b6886a74"
      },
      "source": [
        "model = Pipeline([('vectorizer',tvec),('classifier',clf2)])\n",
        "\n",
        "model.fit(IV_train, DV_train)\n",
        "\n",
        "\n",
        "from sklearn.metrics import confusion_matrix\n",
        "\n",
        "predictions = model.predict(IV_test)\n",
        "\n",
        "confusion_matrix(predictions, DV_test)"
      ],
      "execution_count": 16,
      "outputs": [
        {
          "output_type": "stream",
          "text": [
            "/usr/local/lib/python3.6/dist-packages/sklearn/linear_model/_logistic.py:940: ConvergenceWarning: lbfgs failed to converge (status=1):\n",
            "STOP: TOTAL NO. of ITERATIONS REACHED LIMIT.\n",
            "\n",
            "Increase the number of iterations (max_iter) or scale the data as shown in:\n",
            "    https://scikit-learn.org/stable/modules/preprocessing.html\n",
            "Please also refer to the documentation for alternative solver options:\n",
            "    https://scikit-learn.org/stable/modules/linear_model.html#logistic-regression\n",
            "  extra_warning_msg=_LOGISTIC_SOLVER_CONVERGENCE_MSG)\n"
          ],
          "name": "stderr"
        },
        {
          "output_type": "execute_result",
          "data": {
            "text/plain": [
              "array([[ 119,   99,   11,    2,    1],\n",
              "       [ 368,  993,  397,   87,   11],\n",
              "       [ 181, 1597, 6998, 1510,  149],\n",
              "       [  15,   87,  512, 1502,  528],\n",
              "       [   0,    7,   16,  151,  265]])"
            ]
          },
          "metadata": {
            "tags": []
          },
          "execution_count": 16
        }
      ]
    },
    {
      "cell_type": "markdown",
      "metadata": {
        "id": "FPWdgaFtxfyo",
        "colab_type": "text"
      },
      "source": [
        "## Model prediciton "
      ]
    },
    {
      "cell_type": "code",
      "metadata": {
        "id": "DcwBYp06xfyq",
        "colab_type": "code",
        "colab": {
          "base_uri": "https://localhost:8080/",
          "height": 68
        },
        "outputId": "c093cc06-78f5-4363-b5ce-684b67f70753"
      },
      "source": [
        "from sklearn.metrics import accuracy_score, precision_score, recall_score\n",
        "\n",
        "print(\"Accuracy : \", accuracy_score(predictions, DV_test))\n",
        "print(\"Precision : \", precision_score(predictions, DV_test, average = 'weighted'))\n",
        "print(\"Recall : \", recall_score(predictions, DV_test, average = 'weighted'))"
      ],
      "execution_count": 17,
      "outputs": [
        {
          "output_type": "stream",
          "text": [
            "Accuracy :  0.6328976034858388\n",
            "Precision :  0.720859674869459\n",
            "Recall :  0.6328976034858388\n"
          ],
          "name": "stdout"
        }
      ]
    },
    {
      "cell_type": "markdown",
      "metadata": {
        "id": "zWgjYMx8xfy4",
        "colab_type": "text"
      },
      "source": [
        "## Trying on new reviews "
      ]
    },
    {
      "cell_type": "code",
      "metadata": {
        "id": "jjck9_0_xfzF",
        "colab_type": "code",
        "colab": {
          "base_uri": "https://localhost:8080/",
          "height": 51
        },
        "outputId": "7f5d5bd9-75ff-4195-f6d4-a1c830a3437a"
      },
      "source": [
        "ex=[input((\"enter a string: \"))]\n",
        "re2=model.predict(ex)\n",
        "if(re2==0):\n",
        "  print(\"very negative\")\n",
        "elif (re2==1):\n",
        "  print(\"negative\")\n",
        "elif (re2==2):\n",
        "  print(\"moderate\")\n",
        "elif (re==3):\n",
        "  print(\"happy\")\n",
        "else:\n",
        "  print(\"very happy\")"
      ],
      "execution_count": 20,
      "outputs": [
        {
          "output_type": "stream",
          "text": [
            "enter a string: very bad movie\n",
            "very negative\n"
          ],
          "name": "stdout"
        }
      ]
    },
    {
      "cell_type": "code",
      "metadata": {
        "id": "k5BLyjaTvyAk",
        "colab_type": "code",
        "colab": {
          "base_uri": "https://localhost:8080/",
          "height": 51
        },
        "outputId": "84e405a5-f801-4f5f-efaa-87949dd54ed7"
      },
      "source": [
        "ex=[input((\"enter a string: \"))]\n",
        "re2=model.predict(ex)\n",
        "if(re2==0):\n",
        "  print(\"very negative\")\n",
        "elif (re2==1):\n",
        "  print(\"negative\")\n",
        "elif (re2==2):\n",
        "  print(\"moderate\")\n",
        "elif (re==3):\n",
        "  print(\"happy\")\n",
        "else:\n",
        "  print(\"very happy\")"
      ],
      "execution_count": 21,
      "outputs": [
        {
          "output_type": "stream",
          "text": [
            "enter a string: its a very good movie\n",
            "very happy\n"
          ],
          "name": "stdout"
        }
      ]
    }
  ]
}